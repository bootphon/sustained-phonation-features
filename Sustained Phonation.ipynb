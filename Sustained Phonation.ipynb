{
 "cells": [
  {
   "cell_type": "markdown",
   "metadata": {
    "collapsed": true,
    "pycharm": {
     "name": "#%% md\n"
    }
   },
   "source": [
    "# Sustained Phonation Feature Extraction Notebook\n",
    "In this iPython Notebook, we'll show you how to use\n",
    "our implementation of the features used in <paper citation>\n",
    "to extract them on your own dataset.\n",
    "\n",
    "To follow this tutorial, you'll need some audio files to run our\n",
    "feature extractors on. Ideally, these audio samples each\n",
    "contain a recording of someone speaking a vowel for a few seconds."
   ]
  },
  {
   "cell_type": "markdown",
   "source": [
    "## Step 1: Loading your audio samples\n",
    "\n",
    "In this part of the notebook, load your audio samples in any way you wish,\n",
    "the goal is to have them all as Numpy arrays. We'll store them in\n",
    "a neat little list of `AudioSample` objects which just stores the PCM array,\n",
    "its sampling rate, and and a string identifier for the sample.\n",
    "\n",
    "In this example, we suppose that all the audio samples are read from\n",
    "single WAV files in a folder."
   ],
   "metadata": {
    "collapsed": false,
    "pycharm": {
     "name": "#%% md\n"
    }
   }
  },
  {
   "cell_type": "code",
   "execution_count": null,
   "outputs": [],
   "source": [
    "from features import AudioSample\n",
    "from pathlib import Path\n",
    "from typing import List\n",
    "import librosa\n",
    "import numpy as np\n",
    "\n",
    "samples_folder = Path(\"path/to/samples/folder/\")\n",
    "audio_samples: List[AudioSample] = []\n",
    "for wav_file in samples_folder.iterdir():\n",
    "    if not wav_file.suffix == \".wav\":\n",
    "        continue\n",
    "    else:\n",
    "        # here, we're loading the samples using librosa\n",
    "        # TODO : figure out if we should normalize the sampling rate or not\n",
    "        audio_array, rate = librosa.core.load(str(wav_file), sr=22050,\n",
    "                                              dtype=np.uint16)\n",
    "        audio_samples.append(AudioSample(data=audio_array,\n",
    "                                         rate=rate,\n",
    "                                         name=wav_file.name))"
   ],
   "metadata": {
    "collapsed": false,
    "pycharm": {
     "name": "#%%\n"
    }
   }
  },
  {
   "cell_type": "markdown",
   "source": [
    "## Step 2: Configure the feature extractors\n",
    "\n",
    "In this step, you can tweak, remove of add feature extractors.\n",
    "Here we've put all the feature extractors from <paper>.\n",
    "All of their actual implementations are kept in the `features` module contained\n",
    "in this repository."
   ],
   "metadata": {
    "collapsed": false,
    "pycharm": {
     "name": "#%% md\n"
    }
   }
  },
  {
   "cell_type": "code",
   "execution_count": null,
   "outputs": [],
   "source": [
    "from typing import Dict\n",
    "\n",
    "# TODO : maybe indicate which feature may take some time to compute (RPDE, DFA, ...)\n",
    "\n",
    "from features import *\n",
    "features_dict: Dict[str, SampleProcessor] = {\n",
    "    \"hnr\": PraatHNR(),\n",
    "    \"tremor\": VocalTremorFeatures(),\n",
    "    \"f0_stats\" : AdvancedFundamentalFrequency(),\n",
    "    \"rpde\": RPDE(dim=4, tau=35, epsilon=0.12, tmax=5000),\n",
    "    \"dfa\": DFA(scale_boundaries=(1.259, 1.559), scale_density=0.03),\n",
    "    # ... and so on for all features\n",
    "}"
   ],
   "metadata": {
    "collapsed": false,
    "pycharm": {
     "name": "#%%\n"
    }
   }
  },
  {
   "cell_type": "markdown",
   "source": [
    "## Step 3: Build and run the extraction\n",
    "\n",
    "We'll define here a helper function that runs the extraction using the samples\n",
    "and the selected feature extractors (or processors). Then, we'll run\n",
    "that function on our audio samples dataset.\n",
    "\n",
    "Once the feature extraction is complete, all the features computed for all the\n",
    "samples should be stored in dictionary."
   ],
   "metadata": {
    "collapsed": false,
    "pycharm": {
     "name": "#%% md\n"
    }
   }
  },
  {
   "cell_type": "code",
   "execution_count": null,
   "outputs": [],
   "source": [
    "from collections import defaultdict\n",
    "import tqdm\n",
    "\n",
    "def extract(samples_list: List[AudioSample],\n",
    "          features: Dict[str, SampleProcessor],\n",
    "          fail_on_error: bool = True):\n",
    "    \"\"\"This function takes care of running the extraction,\n",
    "    and stores the extracted features for each sample in a neat\n",
    "    little dictionnary\"\"\"\n",
    "    extracted_features = defaultdict(dict)\n",
    "    for feature_name, processor in features.items():\n",
    "        for audio_sample in tqdm.tqdm(samples_list):\n",
    "            try:\n",
    "                proc_output = processor.process(audio_sample)\n",
    "            except Exception as e:\n",
    "                if fail_on_error:\n",
    "                    raise e\n",
    "                else:\n",
    "                    print(f\"Got error on sample '{audio_sample.name}':' \"\n",
    "                          f\"{type(e).__name__} :{str(e)}', skipping.\")\n",
    "            else:\n",
    "                # maybe we should use tuples for the dict keys?\n",
    "                extracted_features[audio_sample.name][feature_name] = proc_output\n",
    "\n",
    "    return extracted_features\n",
    "\n"
   ],
   "metadata": {
    "collapsed": false,
    "pycharm": {
     "name": "#%%\n"
    }
   }
  },
  {
   "cell_type": "code",
   "execution_count": null,
   "outputs": [],
   "source": [
    "# then, we run the extraction.\n",
    "# WARNING: this may (and should) take some time\n",
    "extracted_features = extract(audio_samples, features_dict, fail_on_error=True)"
   ],
   "metadata": {
    "collapsed": false,
    "pycharm": {
     "name": "#%%\n"
    }
   }
  },
  {
   "cell_type": "markdown",
   "source": [
    "## Step 4 : Results Analysis\n",
    "\n",
    "Now, we'll use these features to run a couple of statistical analysis."
   ],
   "metadata": {
    "collapsed": false,
    "pycharm": {
     "name": "#%% md\n"
    }
   }
  },
  {
   "cell_type": "code",
   "execution_count": null,
   "outputs": [],
   "source": [
    "# TODO"
   ],
   "metadata": {
    "collapsed": false,
    "pycharm": {
     "name": "#%%\n"
    }
   }
  }
 ],
 "metadata": {
  "kernelspec": {
   "display_name": "Python 3",
   "language": "python",
   "name": "python3"
  },
  "language_info": {
   "codemirror_mode": {
    "name": "ipython",
    "version": 2
   },
   "file_extension": ".py",
   "mimetype": "text/x-python",
   "name": "python",
   "nbconvert_exporter": "python",
   "pygments_lexer": "ipython2",
   "version": "2.7.6"
  }
 },
 "nbformat": 4,
 "nbformat_minor": 0
}