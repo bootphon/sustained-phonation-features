{
 "cells": [
  {
   "cell_type": "markdown",
   "metadata": {
    "collapsed": true,
    "pycharm": {
     "name": "#%% md\n"
    }
   },
   "source": [
    "# Sustained Phonation Feature Extraction Notebook\n",
    "In this iPython Notebook, we'll show you how to use\n",
    "our implementation of the features used in <paper citation>\n",
    "to extract them on your own dataset.\n",
    "\n",
    "To follow this tutorial, you'll need some audio files to run our\n",
    "feature extractors on. Ideally, these audio samples each\n",
    "contain a recording of someone speaking the vowel /a/ for a few seconds."
   ]
  },
  {
   "cell_type": "markdown",
   "metadata": {
    "pycharm": {
     "name": "#%% md\n"
    }
   },
   "source": [
    "## Step 1: Loading your audio samples\n",
    "\n",
    "In this part of the notebook, we load the audio samples,\n",
    "the goal is to have them all as Numpy arrays. We'll store them in\n",
    "a list of `AudioSample` objects which just stores the PCM array,\n",
    "its sampling rate, and and a string identifier for the sample.\n",
    "\n",
    "In this example, we suppose that all the audio samples are read from\n",
    "single WAV files in a folder."
   ]
  },
  {
   "cell_type": "code",
   "execution_count": 1,
   "metadata": {
    "pycharm": {
     "name": "#%%\n"
    }
   },
   "outputs": [],
   "source": [
    "from features import AudioSample\n",
    "from pathlib import Path\n",
    "import pandas as pd\n",
    "from typing import List\n",
    "import librosa\n",
    "import numpy as np\n",
    "samples_folder = Path('example_sound/')\n",
    "audio_samples: List[AudioSample] = []\n",
    "for wav_file in samples_folder.iterdir():\n",
    "    if not wav_file.suffix == \".wav\":\n",
    "        continue\n",
    "    else:\n",
    "        audio_array, rate = librosa.core.load(str(wav_file), sr=44100)\n",
    "        audio_samples.append(AudioSample(data=audio_array,\n",
    "                                         rate=rate,\n",
    "                                         name=wav_file.name))"
   ]
  },
  {
   "cell_type": "markdown",
   "metadata": {
    "pycharm": {
     "name": "#%% md\n"
    }
   },
   "source": [
    "## Step 2: Configure the feature extractors\n",
    "\n",
    "In this step, you can tweak, remove of add feature extractors.\n",
    "Here we've put all the feature extractors from our paper 2020 Interspeech paper ['Vocal markers from sustained phonation in Huntington’s Disease'](https://arxiv.org/abs/2006.05365).\n",
    "\n",
    "All of their actual implementations are kept in the `features` module contained\n",
    "in this repository."
   ]
  },
  {
   "cell_type": "code",
   "execution_count": 2,
   "metadata": {
    "pycharm": {
     "name": "#%%\n"
    }
   },
   "outputs": [
    {
     "name": "stdout",
     "output_type": "stream",
     "text": [
      "The DFA and RPDE are not computed by default.\n"
     ]
    }
   ],
   "source": [
    "from typing import Dict\n",
    "\n",
    "print('The DFA and RPDE are not computed by default.')\n",
    "from features import *\n",
    "compute_dfa_rpde = False\n",
    "features_dict: Dict[str, SampleProcessor] = {\n",
    "    \"Maximum_phonation_time\":MPT(),\n",
    "    'Maximum_phonation_time_until_voice_break':MaximumPhonationUntilVoiceBreak(),\n",
    "    'Aperiodicity_Features':AperiodicityFeatures(),\n",
    "    'MFCCs_Mean_Of_Std':MFCCsMeanOfStd(),\n",
    "    \"hnr\": PraatHNR(),\n",
    "    \"tremor\": VocalTremorFeatures(),\n",
    "    \"signal_perturbation\": PraatVoiceFeatures(),\n",
    "    \"mps\": ModulationPowerSpectrumAnalysis(),\n",
    "    \"f0_stats\" : FundamentalFrequency(method='shennong'),\n",
    "}\n",
    "if compute_dfa_rpde:\n",
    "    features_dict[\"rpde\"]= RPDE(dim=4, tau=35, epsilon=0.12, tmax=5000)\n",
    "    features_dict[\"dfa\"]= DFA(scale_boundaries=(1.259, 1.559), scale_density=0.03)"
   ]
  },
  {
   "cell_type": "markdown",
   "metadata": {
    "pycharm": {
     "name": "#%% md\n"
    }
   },
   "source": [
    "## Step 3: Build and run the extraction\n",
    "\n",
    "We'll define here a helper function that runs the extraction using the samples\n",
    "and the selected feature extractors (or processors). Then, we'll run\n",
    "that function on our audio samples dataset.\n",
    "\n",
    "Once the feature extraction is complete, all the features computed for all the\n",
    "samples should be stored in dictionary. We format the classical phonatory features in a final dataframe `classic_phonatory_features_df`."
   ]
  },
  {
   "cell_type": "code",
   "execution_count": 3,
   "metadata": {
    "pycharm": {
     "name": "#%%\n"
    }
   },
   "outputs": [],
   "source": [
    "from collections import defaultdict\n",
    "import tqdm\n",
    "\n",
    "def extract(samples_list: List[AudioSample],\n",
    "          features: Dict[str, SampleProcessor],\n",
    "          fail_on_error: bool = True):\n",
    "    \"\"\"This function takes care of running the extraction,\n",
    "    and stores the extracted features for each sample in a neat\n",
    "    little dictionnary\"\"\"\n",
    "    extracted_features = defaultdict(dict)\n",
    "    for feature_name, processor in features.items():\n",
    "        for audio_sample in tqdm.tqdm(samples_list):\n",
    "            try:\n",
    "                proc_output = processor(audio_sample)\n",
    "            except Exception as e:\n",
    "                if fail_on_error:\n",
    "                    raise e\n",
    "                else:\n",
    "                    print(f\"Got error on sample '{audio_sample.name}':' \"\n",
    "                          f\"{type(e).__name__} :{str(e)}', skipping.\")\n",
    "            else:\n",
    "                # maybe we should use tuples for the dict keys?\n",
    "                extracted_features[audio_sample.name][feature_name] = proc_output\n",
    "\n",
    "    return extracted_features\n",
    "\n"
   ]
  },
  {
   "cell_type": "code",
   "execution_count": 4,
   "metadata": {
    "pycharm": {
     "name": "#%%\n"
    }
   },
   "outputs": [
    {
     "name": "stderr",
     "output_type": "stream",
     "text": [
      "100%|██████████| 5/5 [00:00<00:00, 13131.82it/s]\n",
      "100%|██████████| 5/5 [00:02<00:00,  1.67it/s]\n",
      "100%|██████████| 5/5 [00:02<00:00,  2.44it/s]\n",
      "100%|██████████| 5/5 [00:01<00:00,  4.31it/s]\n",
      "100%|██████████| 5/5 [00:01<00:00,  2.57it/s]\n",
      "100%|██████████| 5/5 [00:06<00:00,  1.32s/it]\n",
      "100%|██████████| 5/5 [00:01<00:00,  2.90it/s]\n",
      "100%|██████████| 5/5 [00:22<00:00,  4.53s/it]\n",
      "100%|██████████| 5/5 [00:01<00:00,  4.70it/s]\n"
     ]
    }
   ],
   "source": [
    "# then, we run the extraction.\n",
    "# WARNING: this may (and should) take some time if DFA and RPDE are included.\n",
    "extracted_features = extract(audio_samples, features_dict, fail_on_error=True)"
   ]
  },
  {
   "cell_type": "code",
   "execution_count": 5,
   "metadata": {},
   "outputs": [],
   "source": [
    "# Formatting the features\n",
    "for file_name in extracted_features.keys():\n",
    "    extracted_features[file_name]['Fraction of locally unvoiced frames'] = extracted_features[file_name]['Aperiodicity_Features']['Fraction of locally unvoiced frames']\n",
    "    extracted_features[file_name]['Number of voice breaks'] = extracted_features[file_name]['Aperiodicity_Features']['Number of voice breaks']\n",
    "    extracted_features[file_name]['Degree of voice breaks'] = extracted_features[file_name]['Aperiodicity_Features']['Degree of voice breaks']\n",
    "    extracted_features[file_name]['Mean_Of_Std_mfcc'] = extracted_features[file_name]['MFCCs_Mean_Of_Std']['mfcc']\n",
    "    extracted_features[file_name]['Mean_Of_Std_delta_mfcc'] = extracted_features[file_name]['MFCCs_Mean_Of_Std']['delta_mfcc']\n",
    "    extracted_features[file_name]['frequency tremor intensity index (FTrI)'] = extracted_features[file_name]['tremor']['frequency tremor intensity index (FTrI)']\n",
    "    extracted_features[file_name]['amplitude tremor intensity index (ATrI)'] = extracted_features[file_name]['tremor']['amplitude tremor intensity index (ATrI)']\n",
    "    extracted_features[file_name]['jitter'] = extracted_features[file_name]['signal_perturbation']['jitter']['local']\n",
    "    extracted_features[file_name]['shimmer'] = extracted_features[file_name]['signal_perturbation']['shimmer']['local']\n",
    "    extracted_features[file_name]['F0_Std'] = np.std(extracted_features[file_name]['f0_stats'])\n",
    "\n",
    "airflow_features_names = ['Maximum_phonation_time','Maximum_phonation_time_until_voice_break']\n",
    "aperiodicity_features_names = ['Number of voice breaks','Degree of voice breaks','Fraction of locally unvoiced frames']\n",
    "signal_perturbation_features_names = ['jitter','shimmer']\n",
    "if compute_dfa_rpde:\n",
    "    irregular_vibration_features_names = ['F0_Std','rpde']\n",
    "    increased_noise_features_names = ['hnr','dfa']\n",
    "else:\n",
    "    irregular_vibration_features_names = ['F0_Std']\n",
    "    increased_noise_features_names = ['hnr']\n",
    "vocal_tremor_features_names = ['frequency tremor intensity index (FTrI)','amplitude tremor intensity index (ATrI)']\n",
    "articulatory_features_names = ['Mean_Of_Std_mfcc','Mean_Of_Std_delta_mfcc']\n",
    "all_features_names = airflow_features_names+aperiodicity_features_names+signal_perturbation_features_names\n",
    "all_features_names += irregular_vibration_features_names+increased_noise_features_names\n",
    "all_features_names += vocal_tremor_features_names+articulatory_features_names\n"
   ]
  },
  {
   "cell_type": "code",
   "execution_count": 6,
   "metadata": {},
   "outputs": [
    {
     "data": {
      "text/plain": [
       "13"
      ]
     },
     "execution_count": 6,
     "metadata": {},
     "output_type": "execute_result"
    }
   ],
   "source": [
    "classic_phonatory_features = {}\n",
    "for file_name in extracted_features.keys():\n",
    "    classic_phonatory_features[file_name] = {curr_feat: extracted_features[file_name][curr_feat] for curr_feat in all_features_names}\n",
    "\n",
    "classic_phonatory_features_df = pd.DataFrame.from_dict(classic_phonatory_features,orient='index')\n",
    "len(classic_phonatory_features_df.columns)"
   ]
  },
  {
   "cell_type": "markdown",
   "metadata": {
    "pycharm": {
     "name": "#%% md\n"
    }
   },
   "source": [
    "## Step 4 : Description and MPS visualisation \n",
    "Now, we can obtain some description of the dataset and visualise the Modulation Power Spectrum features"
   ]
  },
  {
   "cell_type": "code",
   "execution_count": 7,
   "metadata": {},
   "outputs": [
    {
     "data": {
      "text/html": [
       "<div>\n",
       "<style scoped>\n",
       "    .dataframe tbody tr th:only-of-type {\n",
       "        vertical-align: middle;\n",
       "    }\n",
       "\n",
       "    .dataframe tbody tr th {\n",
       "        vertical-align: top;\n",
       "    }\n",
       "\n",
       "    .dataframe thead th {\n",
       "        text-align: right;\n",
       "    }\n",
       "</style>\n",
       "<table border=\"1\" class=\"dataframe\">\n",
       "  <thead>\n",
       "    <tr style=\"text-align: right;\">\n",
       "      <th></th>\n",
       "      <th>Maximum_phonation_time</th>\n",
       "      <th>Maximum_phonation_time_until_voice_break</th>\n",
       "      <th>Number of voice breaks</th>\n",
       "      <th>Degree of voice breaks</th>\n",
       "      <th>Fraction of locally unvoiced frames</th>\n",
       "      <th>jitter</th>\n",
       "      <th>shimmer</th>\n",
       "      <th>F0_Std</th>\n",
       "      <th>hnr</th>\n",
       "      <th>frequency tremor intensity index (FTrI)</th>\n",
       "      <th>amplitude tremor intensity index (ATrI)</th>\n",
       "      <th>Mean_Of_Std_mfcc</th>\n",
       "      <th>Mean_Of_Std_delta_mfcc</th>\n",
       "    </tr>\n",
       "  </thead>\n",
       "  <tbody>\n",
       "    <tr>\n",
       "      <th>count</th>\n",
       "      <td>5.000000</td>\n",
       "      <td>5.000000</td>\n",
       "      <td>5.000000</td>\n",
       "      <td>5.000000</td>\n",
       "      <td>5.000000</td>\n",
       "      <td>5.000000</td>\n",
       "      <td>5.000000</td>\n",
       "      <td>5.000000</td>\n",
       "      <td>5.000000</td>\n",
       "      <td>4.000000</td>\n",
       "      <td>5.00000</td>\n",
       "      <td>5.000000</td>\n",
       "      <td>5.000000</td>\n",
       "    </tr>\n",
       "    <tr>\n",
       "      <th>mean</th>\n",
       "      <td>12.029061</td>\n",
       "      <td>5.673669</td>\n",
       "      <td>3.000000</td>\n",
       "      <td>3.223400</td>\n",
       "      <td>8.963200</td>\n",
       "      <td>0.006281</td>\n",
       "      <td>0.070812</td>\n",
       "      <td>21.604178</td>\n",
       "      <td>15.761006</td>\n",
       "      <td>6.428500</td>\n",
       "      <td>25.54940</td>\n",
       "      <td>7.251858</td>\n",
       "      <td>1.238376</td>\n",
       "    </tr>\n",
       "    <tr>\n",
       "      <th>std</th>\n",
       "      <td>4.303302</td>\n",
       "      <td>5.649126</td>\n",
       "      <td>4.636809</td>\n",
       "      <td>5.975897</td>\n",
       "      <td>4.297089</td>\n",
       "      <td>0.002058</td>\n",
       "      <td>0.029557</td>\n",
       "      <td>28.267693</td>\n",
       "      <td>5.024811</td>\n",
       "      <td>5.323764</td>\n",
       "      <td>3.89228</td>\n",
       "      <td>1.067679</td>\n",
       "      <td>0.088678</td>\n",
       "    </tr>\n",
       "    <tr>\n",
       "      <th>min</th>\n",
       "      <td>6.652517</td>\n",
       "      <td>0.300000</td>\n",
       "      <td>0.000000</td>\n",
       "      <td>0.000000</td>\n",
       "      <td>4.209000</td>\n",
       "      <td>0.003603</td>\n",
       "      <td>0.034545</td>\n",
       "      <td>3.090616</td>\n",
       "      <td>7.238912</td>\n",
       "      <td>2.694000</td>\n",
       "      <td>21.57700</td>\n",
       "      <td>6.417114</td>\n",
       "      <td>1.124982</td>\n",
       "    </tr>\n",
       "    <tr>\n",
       "      <th>25%</th>\n",
       "      <td>9.260408</td>\n",
       "      <td>0.300000</td>\n",
       "      <td>0.000000</td>\n",
       "      <td>0.000000</td>\n",
       "      <td>6.798000</td>\n",
       "      <td>0.005233</td>\n",
       "      <td>0.059730</td>\n",
       "      <td>3.672771</td>\n",
       "      <td>16.570320</td>\n",
       "      <td>3.894750</td>\n",
       "      <td>21.66300</td>\n",
       "      <td>6.613118</td>\n",
       "      <td>1.179904</td>\n",
       "    </tr>\n",
       "    <tr>\n",
       "      <th>50%</th>\n",
       "      <td>12.553696</td>\n",
       "      <td>6.652517</td>\n",
       "      <td>1.000000</td>\n",
       "      <td>0.425000</td>\n",
       "      <td>7.151000</td>\n",
       "      <td>0.006411</td>\n",
       "      <td>0.067890</td>\n",
       "      <td>10.215859</td>\n",
       "      <td>16.761564</td>\n",
       "      <td>4.346000</td>\n",
       "      <td>26.47800</td>\n",
       "      <td>6.754651</td>\n",
       "      <td>1.238235</td>\n",
       "    </tr>\n",
       "    <tr>\n",
       "      <th>75%</th>\n",
       "      <td>13.815828</td>\n",
       "      <td>7.300000</td>\n",
       "      <td>3.000000</td>\n",
       "      <td>1.867000</td>\n",
       "      <td>11.722000</td>\n",
       "      <td>0.007037</td>\n",
       "      <td>0.076147</td>\n",
       "      <td>20.438389</td>\n",
       "      <td>17.670435</td>\n",
       "      <td>6.879750</td>\n",
       "      <td>27.45900</td>\n",
       "      <td>7.441609</td>\n",
       "      <td>1.310514</td>\n",
       "    </tr>\n",
       "    <tr>\n",
       "      <th>max</th>\n",
       "      <td>17.862857</td>\n",
       "      <td>13.815828</td>\n",
       "      <td>11.000000</td>\n",
       "      <td>13.825000</td>\n",
       "      <td>14.936000</td>\n",
       "      <td>0.009123</td>\n",
       "      <td>0.115750</td>\n",
       "      <td>70.603256</td>\n",
       "      <td>20.563798</td>\n",
       "      <td>14.328000</td>\n",
       "      <td>30.57000</td>\n",
       "      <td>9.032798</td>\n",
       "      <td>1.338245</td>\n",
       "    </tr>\n",
       "  </tbody>\n",
       "</table>\n",
       "</div>"
      ],
      "text/plain": [
       "       Maximum_phonation_time  Maximum_phonation_time_until_voice_break  \\\n",
       "count                5.000000                                  5.000000   \n",
       "mean                12.029061                                  5.673669   \n",
       "std                  4.303302                                  5.649126   \n",
       "min                  6.652517                                  0.300000   \n",
       "25%                  9.260408                                  0.300000   \n",
       "50%                 12.553696                                  6.652517   \n",
       "75%                 13.815828                                  7.300000   \n",
       "max                 17.862857                                 13.815828   \n",
       "\n",
       "       Number of voice breaks  Degree of voice breaks  \\\n",
       "count                5.000000                5.000000   \n",
       "mean                 3.000000                3.223400   \n",
       "std                  4.636809                5.975897   \n",
       "min                  0.000000                0.000000   \n",
       "25%                  0.000000                0.000000   \n",
       "50%                  1.000000                0.425000   \n",
       "75%                  3.000000                1.867000   \n",
       "max                 11.000000               13.825000   \n",
       "\n",
       "       Fraction of locally unvoiced frames    jitter   shimmer     F0_Std  \\\n",
       "count                             5.000000  5.000000  5.000000   5.000000   \n",
       "mean                              8.963200  0.006281  0.070812  21.604178   \n",
       "std                               4.297089  0.002058  0.029557  28.267693   \n",
       "min                               4.209000  0.003603  0.034545   3.090616   \n",
       "25%                               6.798000  0.005233  0.059730   3.672771   \n",
       "50%                               7.151000  0.006411  0.067890  10.215859   \n",
       "75%                              11.722000  0.007037  0.076147  20.438389   \n",
       "max                              14.936000  0.009123  0.115750  70.603256   \n",
       "\n",
       "             hnr  frequency tremor intensity index (FTrI)  \\\n",
       "count   5.000000                                 4.000000   \n",
       "mean   15.761006                                 6.428500   \n",
       "std     5.024811                                 5.323764   \n",
       "min     7.238912                                 2.694000   \n",
       "25%    16.570320                                 3.894750   \n",
       "50%    16.761564                                 4.346000   \n",
       "75%    17.670435                                 6.879750   \n",
       "max    20.563798                                14.328000   \n",
       "\n",
       "       amplitude tremor intensity index (ATrI)  Mean_Of_Std_mfcc  \\\n",
       "count                                  5.00000          5.000000   \n",
       "mean                                  25.54940          7.251858   \n",
       "std                                    3.89228          1.067679   \n",
       "min                                   21.57700          6.417114   \n",
       "25%                                   21.66300          6.613118   \n",
       "50%                                   26.47800          6.754651   \n",
       "75%                                   27.45900          7.441609   \n",
       "max                                   30.57000          9.032798   \n",
       "\n",
       "       Mean_Of_Std_delta_mfcc  \n",
       "count                5.000000  \n",
       "mean                 1.238376  \n",
       "std                  0.088678  \n",
       "min                  1.124982  \n",
       "25%                  1.179904  \n",
       "50%                  1.238235  \n",
       "75%                  1.310514  \n",
       "max                  1.338245  "
      ]
     },
     "execution_count": 7,
     "metadata": {},
     "output_type": "execute_result"
    }
   ],
   "source": [
    "classic_phonatory_features_df.describe()"
   ]
  },
  {
   "cell_type": "code",
   "execution_count": 8,
   "metadata": {
    "pycharm": {
     "name": "#%%\n"
    }
   },
   "outputs": [],
   "source": [
    "import matplotlib.pyplot as plt\n",
    "\n",
    "def plot_mps(mps,wt,wf, DBNOISE=50):\n",
    "    plt.figure()\n",
    "    plt.clf()\n",
    "    cmap = plt.get_cmap('jet')\n",
    "    ex = (wt.min(), wt.max(), wf.min() * 1e3,\n",
    "          wf.max() * 1e3)\n",
    "    logMPS = 10.0 * np.log10(mps)\n",
    "    maxMPS = logMPS.max()\n",
    "    minMPS = maxMPS - DBNOISE\n",
    "    logMPS[logMPS < minMPS] = minMPS\n",
    "    plt.imshow(\n",
    "        logMPS,\n",
    "        interpolation='nearest',\n",
    "        aspect='auto',\n",
    "        origin='lower',\n",
    "        cmap=cmap,\n",
    "        extent=ex)\n",
    "    plt.ylabel('Spectral Frequency (Cycles/KHz)')\n",
    "    plt.xlabel('Temporal Frequency (Hz)')\n",
    "    plt.colorbar()\n",
    "    plt.ylim((0, wf.max() * 1e3))\n",
    "    plt.title('Modulation Power Spectrum')\n",
    "    plt.show()\n"
   ]
  },
  {
   "cell_type": "code",
   "execution_count": 9,
   "metadata": {},
   "outputs": [
    {
     "data": {
      "image/png": "[encoded data removed]",
      "text/plain": [
       "<Figure size 432x288 with 2 Axes>"
      ]
     },
     "metadata": {
      "needs_background": "light"
     },
     "output_type": "display_data"
    }
   ],
   "source": [
    "file_name = 'aaa_maureen.wav'\n",
    "plot_mps(extracted_features[file_name]['mps']['mps'], extracted_features[file_name]['mps']['mps_wt'],extracted_features[file_name]['mps']['mps_wf'])\n",
    "\n"
   ]
  },
  {
   "cell_type": "code",
   "execution_count": 10,
   "metadata": {},
   "outputs": [
    {
     "data": {
      "image/png": "[encoded data removed]",
      "text/plain": [
       "<Figure size 432x288 with 2 Axes>"
      ]
     },
     "metadata": {
      "needs_background": "light"
     },
     "output_type": "display_data"
    }
   ],
   "source": [
    "file_name = 'ah_mathieu.wav'\n",
    "plot_mps(extracted_features[file_name]['mps']['mps'], extracted_features[file_name]['mps']['mps_wt'],extracted_features[file_name]['mps']['mps_wf'])\n"
   ]
  },
  {
   "cell_type": "code",
   "execution_count": null,
   "metadata": {},
   "outputs": [],
   "source": []
  }
 ],
 "metadata": {
  "kernelspec": {
   "display_name": "Python 3",
   "language": "python",
   "name": "python3"
  },
  "language_info": {
   "codemirror_mode": {
    "name": "ipython",
    "version": 3
   },
   "file_extension": ".py",
   "mimetype": "text/x-python",
   "name": "python",
   "nbconvert_exporter": "python",
   "pygments_lexer": "ipython3",
   "version": "3.7.8"
  }
 },
 "nbformat": 4,
 "nbformat_minor": 1
}
